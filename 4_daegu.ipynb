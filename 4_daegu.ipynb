{
 "cells": [
  {
   "cell_type": "code",
   "execution_count": 1,
   "metadata": {},
   "outputs": [
    {
     "data": {
      "text/plain": [
       "('0.7.1', '1.4.1')"
      ]
     },
     "execution_count": 1,
     "metadata": {},
     "output_type": "execute_result"
    }
   ],
   "source": [
    "import pydeck\n",
    "import pandas as pd\n",
    "import time\n",
    "pydeck.__version__, pd.__version__"
   ]
  },
  {
   "cell_type": "code",
   "execution_count": 2,
   "metadata": {},
   "outputs": [
    {
     "data": {
      "text/html": [
       "<div>\n",
       "<style scoped>\n",
       "    .dataframe tbody tr th:only-of-type {\n",
       "        vertical-align: middle;\n",
       "    }\n",
       "\n",
       "    .dataframe tbody tr th {\n",
       "        vertical-align: top;\n",
       "    }\n",
       "\n",
       "    .dataframe thead th {\n",
       "        text-align: right;\n",
       "    }\n",
       "</style>\n",
       "<table border=\"1\" class=\"dataframe\">\n",
       "  <thead>\n",
       "    <tr style=\"text-align: right;\">\n",
       "      <th></th>\n",
       "      <th>id</th>\n",
       "      <th>path</th>\n",
       "      <th>timestamp</th>\n",
       "    </tr>\n",
       "  </thead>\n",
       "  <tbody>\n",
       "    <tr>\n",
       "      <th>0</th>\n",
       "      <td>NCID0001</td>\n",
       "      <td>[[128.586488, 35.867508], [128.586577, 35.8682...</td>\n",
       "      <td>[2864.7, 2891.0, 2913.0, 2932.4, 2932.4]</td>\n",
       "    </tr>\n",
       "    <tr>\n",
       "      <th>1</th>\n",
       "      <td>NCID0002</td>\n",
       "      <td>[[128.580994, 35.870917], [128.581082, 35.8704...</td>\n",
       "      <td>[11.8, 134.9, 159.4, 186.8, 194.3, 235.4, 345....</td>\n",
       "    </tr>\n",
       "    <tr>\n",
       "      <th>2</th>\n",
       "      <td>NCID0003</td>\n",
       "      <td>[[128.594369, 35.865235], [128.599484, 35.8637...</td>\n",
       "      <td>[2492.2, 2570.1, 2610.7, 2713.8999999999996, 2...</td>\n",
       "    </tr>\n",
       "    <tr>\n",
       "      <th>3</th>\n",
       "      <td>NCID0003</td>\n",
       "      <td>[[128.562665, 35.84149], [128.560924, 35.84198...</td>\n",
       "      <td>[562.8, 577.5999999999999, 584.3, 631.3, 656.0...</td>\n",
       "    </tr>\n",
       "    <tr>\n",
       "      <th>4</th>\n",
       "      <td>NCID0004</td>\n",
       "      <td>[[128.583466, 35.869256], [128.582473, 35.8694...</td>\n",
       "      <td>[1691.9, 1691.9]</td>\n",
       "    </tr>\n",
       "  </tbody>\n",
       "</table>\n",
       "</div>"
      ],
      "text/plain": [
       "         id                                               path  \\\n",
       "0  NCID0001  [[128.586488, 35.867508], [128.586577, 35.8682...   \n",
       "1  NCID0002  [[128.580994, 35.870917], [128.581082, 35.8704...   \n",
       "2  NCID0003  [[128.594369, 35.865235], [128.599484, 35.8637...   \n",
       "3  NCID0003  [[128.562665, 35.84149], [128.560924, 35.84198...   \n",
       "4  NCID0004  [[128.583466, 35.869256], [128.582473, 35.8694...   \n",
       "\n",
       "                                           timestamp  \n",
       "0           [2864.7, 2891.0, 2913.0, 2932.4, 2932.4]  \n",
       "1  [11.8, 134.9, 159.4, 186.8, 194.3, 235.4, 345....  \n",
       "2  [2492.2, 2570.1, 2610.7, 2713.8999999999996, 2...  \n",
       "3  [562.8, 577.5999999999999, 584.3, 631.3, 656.0...  \n",
       "4                                   [1691.9, 1691.9]  "
      ]
     },
     "execution_count": 2,
     "metadata": {},
     "output_type": "execute_result"
    }
   ],
   "source": [
    "df_new = pd.read_csv('data/data_osrm.csv', dtype={'path': object,\n",
    "                                                  'timestamp': object})\n",
    "df_new.head()"
   ]
  },
  {
   "cell_type": "code",
   "execution_count": 3,
   "metadata": {},
   "outputs": [
    {
     "data": {
      "text/plain": [
       "(str,\n",
       " '[[128.586488, 35.867508], [128.586577, 35.868217], [128.585113, 35.870474], [128.581082, 35.870481], [128.580862, 35.87168]]')"
      ]
     },
     "execution_count": 3,
     "metadata": {},
     "output_type": "execute_result"
    }
   ],
   "source": [
    "type(df_new['path'][0]), df_new['path'][0]"
   ]
  },
  {
   "cell_type": "code",
   "execution_count": 4,
   "metadata": {},
   "outputs": [],
   "source": [
    "# convert str to list\n",
    "df_new['path'] = df_new['path'].apply(eval)\n",
    "df_new['timestamp'] = df_new['timestamp'].apply(eval)"
   ]
  },
  {
   "cell_type": "code",
   "execution_count": 5,
   "metadata": {},
   "outputs": [
    {
     "data": {
      "text/html": [
       "<div>\n",
       "<style scoped>\n",
       "    .dataframe tbody tr th:only-of-type {\n",
       "        vertical-align: middle;\n",
       "    }\n",
       "\n",
       "    .dataframe tbody tr th {\n",
       "        vertical-align: top;\n",
       "    }\n",
       "\n",
       "    .dataframe thead th {\n",
       "        text-align: right;\n",
       "    }\n",
       "</style>\n",
       "<table border=\"1\" class=\"dataframe\">\n",
       "  <thead>\n",
       "    <tr style=\"text-align: right;\">\n",
       "      <th></th>\n",
       "      <th>id</th>\n",
       "      <th>path</th>\n",
       "      <th>timestamp</th>\n",
       "    </tr>\n",
       "  </thead>\n",
       "  <tbody>\n",
       "    <tr>\n",
       "      <th>0</th>\n",
       "      <td>NCID0001</td>\n",
       "      <td>[[128.586488, 35.867508], [128.586577, 35.8682...</td>\n",
       "      <td>[2864.7, 2891.0, 2913.0, 2932.4, 2932.4]</td>\n",
       "    </tr>\n",
       "    <tr>\n",
       "      <th>1</th>\n",
       "      <td>NCID0002</td>\n",
       "      <td>[[128.580994, 35.870917], [128.581082, 35.8704...</td>\n",
       "      <td>[11.8, 134.9, 159.4, 186.8, 194.3, 235.4, 345....</td>\n",
       "    </tr>\n",
       "    <tr>\n",
       "      <th>2</th>\n",
       "      <td>NCID0003</td>\n",
       "      <td>[[128.594369, 35.865235], [128.599484, 35.8637...</td>\n",
       "      <td>[2492.2, 2570.1, 2610.7, 2713.8999999999996, 2...</td>\n",
       "    </tr>\n",
       "    <tr>\n",
       "      <th>3</th>\n",
       "      <td>NCID0003</td>\n",
       "      <td>[[128.562665, 35.84149], [128.560924, 35.84198...</td>\n",
       "      <td>[562.8, 577.5999999999999, 584.3, 631.3, 656.0...</td>\n",
       "    </tr>\n",
       "    <tr>\n",
       "      <th>4</th>\n",
       "      <td>NCID0004</td>\n",
       "      <td>[[128.583466, 35.869256], [128.582473, 35.8694...</td>\n",
       "      <td>[1691.9, 1691.9]</td>\n",
       "    </tr>\n",
       "  </tbody>\n",
       "</table>\n",
       "</div>"
      ],
      "text/plain": [
       "         id                                               path  \\\n",
       "0  NCID0001  [[128.586488, 35.867508], [128.586577, 35.8682...   \n",
       "1  NCID0002  [[128.580994, 35.870917], [128.581082, 35.8704...   \n",
       "2  NCID0003  [[128.594369, 35.865235], [128.599484, 35.8637...   \n",
       "3  NCID0003  [[128.562665, 35.84149], [128.560924, 35.84198...   \n",
       "4  NCID0004  [[128.583466, 35.869256], [128.582473, 35.8694...   \n",
       "\n",
       "                                           timestamp  \n",
       "0           [2864.7, 2891.0, 2913.0, 2932.4, 2932.4]  \n",
       "1  [11.8, 134.9, 159.4, 186.8, 194.3, 235.4, 345....  \n",
       "2  [2492.2, 2570.1, 2610.7, 2713.8999999999996, 2...  \n",
       "3  [562.8, 577.5999999999999, 584.3, 631.3, 656.0...  \n",
       "4                                   [1691.9, 1691.9]  "
      ]
     },
     "execution_count": 5,
     "metadata": {},
     "output_type": "execute_result"
    }
   ],
   "source": [
    "df_new.head()"
   ]
  },
  {
   "cell_type": "code",
   "execution_count": 6,
   "metadata": {},
   "outputs": [
    {
     "name": "stdout",
     "output_type": "stream",
     "text": [
      "11 3982\n"
     ]
    },
    {
     "data": {
      "application/vnd.jupyter.widget-view+json": {
       "model_id": "9752fa663883461ab9f085e46fa204cd",
       "version_major": 2,
       "version_minor": 0
      },
      "text/plain": [
       "DeckGLWidget(carto_key=None, custom_libraries=[], google_maps_key=None, json_input='{\"initialViewState\": {\"bea…"
      ]
     },
     "metadata": {},
     "output_type": "display_data"
    }
   ],
   "source": [
    "time_min = int(df_new['timestamp'].min()[0])\n",
    "time_max = int(df_new['timestamp'].max()[1]) + 500\n",
    "print(time_min, time_max)\n",
    "\n",
    "tripsLayer = pydeck.Layer(\n",
    "    type=\"TripsLayer\",\n",
    "    data=df_new,\n",
    "    get_path='path',\n",
    "    get_timestamps='timestamp',\n",
    "    get_color='[255, 0, 0, 255]',\n",
    "    opacity=0.8,\n",
    "    width_min_pixels=3,\n",
    "    rounded=True,\n",
    "    trail_length=500,\n",
    "    current_time=time_min,\n",
    ")\n",
    "\n",
    "view_state = pydeck.ViewState(\n",
    "    longitude=128.602935,\n",
    "    latitude=35.850913,\n",
    "    zoom=10,\n",
    "    min_zoom=7,\n",
    "    max_zoom=15,\n",
    "    pitch=0,\n",
    "    bearing=0,\n",
    ")\n",
    "\n",
    "r = pydeck.Deck(layers=[tripsLayer], initial_view_state=view_state)\n",
    "# r.to_html('example3.html')\n",
    "display(r.show())\n",
    "\n",
    "# Animate\n",
    "for ct in range(time_min, time_max, 100):\n",
    "    tripsLayer.current_time = ct\n",
    "    r.update()\n",
    "    time.sleep(0.1)"
   ]
  }
 ],
 "metadata": {
  "kernelspec": {
   "display_name": "Python 3.9.9 64-bit",
   "language": "python",
   "name": "python3"
  },
  "language_info": {
   "codemirror_mode": {
    "name": "ipython",
    "version": 3
   },
   "file_extension": ".py",
   "mimetype": "text/x-python",
   "name": "python",
   "nbconvert_exporter": "python",
   "pygments_lexer": "ipython3",
   "version": "3.9.9"
  },
  "orig_nbformat": 4,
  "vscode": {
   "interpreter": {
    "hash": "11938c6bc6919ae2720b4d5011047913343b08a43b18698fd82dedb0d4417594"
   }
  }
 },
 "nbformat": 4,
 "nbformat_minor": 2
}
