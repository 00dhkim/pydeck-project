{
 "cells": [
  {
   "cell_type": "code",
   "execution_count": 1,
   "metadata": {},
   "outputs": [],
   "source": [
    "import json\n",
    "import requests\n",
    "import pandas as pd"
   ]
  },
  {
   "cell_type": "code",
   "execution_count": 2,
   "metadata": {},
   "outputs": [
    {
     "data": {
      "text/plain": [
       "'{\"code\":\"Ok\",\"routes\":[{\"legs\":[{\"steps\":[{\"geometry\":\"cjwjEkaibWmCe@cAOmBW\",\"maneuver\":{\"bearing_af'"
      ]
     },
     "execution_count": 2,
     "metadata": {},
     "output_type": "execute_result"
    }
   ],
   "source": [
    "res = requests.get('https://router.project-osrm.org/route/v1/driving/126.3731575012207,33.38400957065941;126.33230209350586,33.384296245188274?overview=false&steps=true').text\n",
    "\n",
    "res[:100]"
   ]
  },
  {
   "cell_type": "code",
   "execution_count": 3,
   "metadata": {},
   "outputs": [
    {
     "data": {
      "text/plain": [
       "{'code': 'Ok',\n",
       " 'routes': [{'legs': [{'steps': [{'geometry': 'cjwjEkaibWmCe@cAOmBW',\n",
       "       'maneuver': {'bearing_after': 12,\n",
       "        'bearing_before': 0,\n",
       "        'location': [126.372221, 33.384183],\n",
       "        'modifier': 'right',\n",
       "        'type': 'depart'},\n",
       "       'mode': 'driving',\n",
       "       'ref': '1135',\n",
       "       'driving_side': 'right',\n",
       "       'name': '평화로',\n",
       "       'intersections': [{'out': 0,\n",
       "         'entry': [True],\n",
       "         'bearings': [12],\n",
       "         'location': [126.372221, 33.384183]}],\n",
       "       'weight': 7.7,\n",
       "       'duration': 7.7,\n",
       "       'distance': 181},\n",
       "      {'geometry': 'ctwjEycibW}@YaCe@iD}@yA_@',\n",
       "       'maneuver': {'bearing_after': 18,\n",
       "        'bearing_before': 9,\n",
       "        'location': [126.37261, 33.385777],\n",
       "        'modifier': 'slight right',\n",
       "        'type': 'off ramp'},\n",
       "       'mode': 'driving',\n",
       "       'driving_side': 'right',\n",
       "       'name': '',\n",
       "       'intersections': [{'out': 1,\n",
       "         'in': 2,\n",
       "         'entry': [True, True, False],\n",
       "         'bearings': [10, 19, 190],\n",
       "         'location': [126.37261, 33.385777]},\n",
       "        {'out': 0,\n",
       "         'in': 2,\n",
       "         'entry': [True, True, False],\n",
       "         'bearings': [15, 45, 195],\n",
       "         'location': [126.373238, 33.387594]}],\n",
       "       'weight': 29.9,\n",
       "       'duration': 29.9,\n",
       "       'distance': 262.4},\n",
       "      {'geometry': 'gbxjEwhibWC\\\\MtA',\n",
       "       'maneuver': {'bearing_after': 278,\n",
       "        'bearing_before': 16,\n",
       "        'location': [126.373401, 33.388041],\n",
       "        'modifier': 'left',\n",
       "        'type': 'turn'},\n",
       "       'mode': 'driving',\n",
       "       'ref': '1117',\n",
       "       'driving_side': 'right',\n",
       "       'name': '산록서로',\n",
       "       'intersections': [{'out': 3,\n",
       "         'in': 2,\n",
       "         'entry': [True, True, False, True],\n",
       "         'bearings': [0, 90, 195, 285],\n",
       "         'location': [126.373401, 33.388041]}],\n",
       "       'weight': 3.1,\n",
       "       'duration': 3.1,\n",
       "       'distance': 55.4},\n",
       "      {'geometry': 'ybxjEceibWE`@]lAGL_@z@m@dAy@fAiAhAcAp@mCxAs@b@cA`@yAf@{@XyBv@cA\\\\w@VqBp@cBd@kAX{A^gATkAXw@RcAT[Hc@R_@V]V{AhAkDhC_@VUNYNWFg@Hi@?gADk@Dc@HSH_@TUNSTQTMRMXK`@WhAQbAI^Md@KVOZUVc@d@qBlBcDzCk@f@[NSHYDYB]?g@Ac@?S@QBSDQDUJ]NsBx@ULWRKHSXUl@i@fAa@r@SXe@b@aAv@YVSZOT[j@iAzBWd@QTQTk@l@gBfBoAlAQRORMTO\\\\O`@{@fCUn@Q^Wh@_@t@iAlBm@bAUTWR]V_@TQLQPKRIZETC`@?\\\\?bA?^AZG^K\\\\ORMLCBKJa@TYTgAhAqCzC]b@QTGNKRIZIXEZCZAh@?`@@d@Bd@@VA\\\\Gh@Mp@SdAKh@I\\\\CTCR?P?N@NBRBX?VCVETITKRQNYV]Xe@Za@Ri@T{@\\\\y@`@q@b@',\n",
       "       'maneuver': {'bearing_after': 281,\n",
       "        'bearing_before': 281,\n",
       "        'location': [126.372815, 33.388134],\n",
       "        'modifier': 'straight',\n",
       "        'type': 'new name'},\n",
       "       'mode': 'driving',\n",
       "       'driving_side': 'right',\n",
       "       'name': '천덕로',\n",
       "       'intersections': [{'out': 1,\n",
       "         'in': 0,\n",
       "         'entry': [False, True],\n",
       "         'bearings': [105, 285],\n",
       "         'location': [126.372815, 33.388134]},\n",
       "        {'out': 3,\n",
       "         'in': 1,\n",
       "         'entry': [False, False, True, True],\n",
       "         'bearings': [30, 105, 180, 300],\n",
       "         'location': [126.372646, 33.388163]},\n",
       "        {'out': 3,\n",
       "         'in': 1,\n",
       "         'entry': [False, False, True, True],\n",
       "         'bearings': [90, 120, 135, 300],\n",
       "         'location': [126.372193, 33.388349]},\n",
       "        {'out': 2,\n",
       "         'in': 0,\n",
       "         'entry': [False, True, True],\n",
       "         'bearings': [165, 255, 345],\n",
       "         'location': [126.368436, 33.394099]},\n",
       "        {'out': 2,\n",
       "         'in': 0,\n",
       "         'entry': [False, True, True],\n",
       "         'bearings': [135, 270, 330],\n",
       "         'location': [126.35102, 33.412016]},\n",
       "        {'out': 2,\n",
       "         'in': 1,\n",
       "         'entry': [True, False, True],\n",
       "         'bearings': [30, 150, 345],\n",
       "         'location': [126.344441, 33.415349]}],\n",
       "       'weight': 403.5,\n",
       "       'duration': 403.5,\n",
       "       'distance': 4411.1},\n",
       "      {'geometry': 'er}jEspcbWjBpB~EvEfGdDJDnHxB|JrCxD`A^FnFnBxEbCrF|EnBnA|EzELHHHLJnFfEDDvGvFpAdA~D|C`Ax@zGjGbH|EzG|DdEnBlGzBbHfBb@L',\n",
       "       'maneuver': {'bearing_after': 220,\n",
       "        'bearing_before': 327,\n",
       "        'location': [126.343938, 33.416186],\n",
       "        'modifier': 'left',\n",
       "        'type': 'turn'},\n",
       "       'mode': 'driving',\n",
       "       'driving_side': 'right',\n",
       "       'name': '금가로',\n",
       "       'intersections': [{'out': 2,\n",
       "         'in': 1,\n",
       "         'entry': [True, False, True, True],\n",
       "         'bearings': [60, 150, 225, 330],\n",
       "         'location': [126.343938, 33.416186]},\n",
       "        {'out': 2,\n",
       "         'in': 0,\n",
       "         'entry': [False, True, True, True],\n",
       "         'bearings': [30, 105, 195, 300],\n",
       "         'location': [126.341464, 33.413209]},\n",
       "        {'out': 2,\n",
       "         'in': 0,\n",
       "         'entry': [False, True, True, True],\n",
       "         'bearings': [30, 150, 210, 315],\n",
       "         'location': [126.337382, 33.40512]},\n",
       "        {'out': 2,\n",
       "         'in': 0,\n",
       "         'entry': [False, True, True, True],\n",
       "         'bearings': [45, 150, 210, 330],\n",
       "         'location': [126.335884, 33.403447]},\n",
       "        {'out': 2,\n",
       "         'in': 0,\n",
       "         'entry': [False, True, True, True],\n",
       "         'bearings': [30, 150, 210, 330],\n",
       "         'location': [126.335825, 33.403381]},\n",
       "        {'out': 2,\n",
       "         'in': 0,\n",
       "         'entry': [False, True, True],\n",
       "         'bearings': [30, 150, 210],\n",
       "         'location': [126.335717, 33.403255]},\n",
       "        {'out': 2,\n",
       "         'in': 0,\n",
       "         'entry': [False, True, True, True],\n",
       "         'bearings': [30, 135, 210, 330],\n",
       "         'location': [126.334691, 33.402026]},\n",
       "        {'out': 1,\n",
       "         'in': 0,\n",
       "         'entry': [False, True],\n",
       "         'bearings': [30, 210],\n",
       "         'location': [126.33345, 33.400626]},\n",
       "        {'out': 1,\n",
       "         'in': 0,\n",
       "         'entry': [False, True],\n",
       "         'bearings': [30, 210],\n",
       "         'location': [126.333097, 33.400218]},\n",
       "        {'out': 3,\n",
       "         'in': 1,\n",
       "         'entry': [True, False, True, True],\n",
       "         'bearings': [0, 30, 180, 210],\n",
       "         'location': [126.332308, 33.399255]}],\n",
       "       'weight': 187.8,\n",
       "       'duration': 187.8,\n",
       "       'distance': 3287},\n",
       "      {'geometry': 'qrxjEye`bWHm@F_@He@FSHUN]N[JWDS@W@W?WCYA]A_@@]BWD[J_@J]LYXc@X[RUTSd@YRKNGREp@MPELENMNORWXa@^e@XYPOLM\\\\YROJINKPGLEVIRGLGLGJKFI',\n",
       "       'maneuver': {'bearing_after': 104,\n",
       "        'bearing_before': 196,\n",
       "        'location': [126.326854, 33.390652],\n",
       "        'modifier': 'left',\n",
       "        'type': 'turn'},\n",
       "       'mode': 'driving',\n",
       "       'driving_side': 'right',\n",
       "       'name': '녹근로',\n",
       "       'intersections': [{'out': 1,\n",
       "         'in': 0,\n",
       "         'entry': [False, True, True, True],\n",
       "         'bearings': [15, 105, 195, 300],\n",
       "         'location': [126.326854, 33.390652]}],\n",
       "       'weight': 106.3,\n",
       "       'duration': 106.3,\n",
       "       'distance': 725.6},\n",
       "      {'geometry': 'czwjE{gabWr@z@TFx@P~@VZRVl@',\n",
       "       'maneuver': {'bearing_after': 223,\n",
       "        'bearing_before': 135,\n",
       "        'location': [126.332304, 33.386736],\n",
       "        'modifier': 'right',\n",
       "        'type': 'turn'},\n",
       "       'mode': 'driving',\n",
       "       'driving_side': 'right',\n",
       "       'name': '',\n",
       "       'intersections': [{'out': 1,\n",
       "         'in': 2,\n",
       "         'entry': [True, True, False],\n",
       "         'bearings': [135, 225, 315],\n",
       "         'location': [126.332304, 33.386736]}],\n",
       "       'weight': 24,\n",
       "       'duration': 24,\n",
       "       'distance': 166.8},\n",
       "      {'geometry': 'krwjEkbabW',\n",
       "       'maneuver': {'bearing_after': 0,\n",
       "        'bearing_before': 237,\n",
       "        'location': [126.331422, 33.385497],\n",
       "        'modifier': 'left',\n",
       "        'type': 'arrive'},\n",
       "       'mode': 'driving',\n",
       "       'driving_side': 'right',\n",
       "       'name': '',\n",
       "       'intersections': [{'in': 0,\n",
       "         'entry': [True],\n",
       "         'bearings': [57],\n",
       "         'location': [126.331422, 33.385497]}],\n",
       "       'weight': 0,\n",
       "       'duration': 0,\n",
       "       'distance': 0}],\n",
       "     'summary': '천덕로, 금가로',\n",
       "     'weight': 762.3,\n",
       "     'duration': 762.3,\n",
       "     'distance': 9089.2}],\n",
       "   'weight_name': 'routability',\n",
       "   'weight': 762.3,\n",
       "   'duration': 762.3,\n",
       "   'distance': 9089.2}],\n",
       " 'waypoints': [{'hint': '95tTgv___38GAAAAKAAAAGAAAAArAAAA1_ZvQSOEn0KyWmJD2HDJQgYAAAAoAAAAYAAAACsAAABHVwAAfUmIB_dm_QEmTYgHSmb9AQEAzwB0fuzL',\n",
       "   'distance': 89.281362,\n",
       "   'name': '평화로',\n",
       "   'location': [126.372221, 33.384183]},\n",
       "  {'hint': 'jx36hZId-oUAAAAAJQAAAAUDAADLAAAAAAAAAHUdzUEoGgZEYeQMQwAAAAAlAAAABQMAAMsAAABHVwAAHqqHBxls_QGOrYcHaGf9ASEAjwN0fuzL',\n",
       "   'distance': 156.360005,\n",
       "   'name': '',\n",
       "   'location': [126.331422, 33.385497]}]}"
      ]
     },
     "execution_count": 3,
     "metadata": {},
     "output_type": "execute_result"
    }
   ],
   "source": [
    "data = json.loads(res)\n",
    "data"
   ]
  },
  {
   "cell_type": "code",
   "execution_count": 4,
   "metadata": {},
   "outputs": [
    {
     "data": {
      "text/plain": [
       "{'geometry': 'cjwjEkaibWmCe@cAOmBW',\n",
       " 'maneuver': {'bearing_after': 12,\n",
       "  'bearing_before': 0,\n",
       "  'location': [126.372221, 33.384183],\n",
       "  'modifier': 'right',\n",
       "  'type': 'depart'},\n",
       " 'mode': 'driving',\n",
       " 'ref': '1135',\n",
       " 'driving_side': 'right',\n",
       " 'name': '평화로',\n",
       " 'intersections': [{'out': 0,\n",
       "   'entry': [True],\n",
       "   'bearings': [12],\n",
       "   'location': [126.372221, 33.384183]}],\n",
       " 'weight': 7.7,\n",
       " 'duration': 7.7,\n",
       " 'distance': 181}"
      ]
     },
     "execution_count": 4,
     "metadata": {},
     "output_type": "execute_result"
    }
   ],
   "source": [
    "data['routes'][0]['legs'][0]['steps'][0]"
   ]
  },
  {
   "cell_type": "code",
   "execution_count": 5,
   "metadata": {},
   "outputs": [
    {
     "data": {
      "text/plain": [
       "8"
      ]
     },
     "execution_count": 5,
     "metadata": {},
     "output_type": "execute_result"
    }
   ],
   "source": [
    "len(data['routes'][0]['legs'][0]['steps'])"
   ]
  },
  {
   "cell_type": "code",
   "execution_count": 6,
   "metadata": {},
   "outputs": [
    {
     "data": {
      "text/plain": [
       "([[126.372221, 33.384183],\n",
       "  [126.37261, 33.385777],\n",
       "  [126.373401, 33.388041],\n",
       "  [126.372815, 33.388134],\n",
       "  [126.343938, 33.416186],\n",
       "  [126.326854, 33.390652],\n",
       "  [126.332304, 33.386736],\n",
       "  [126.331422, 33.385497]],\n",
       " [7.7, 37.6, 40.7, 444.2, 632.0, 738.3, 762.3, 762.3])"
      ]
     },
     "execution_count": 6,
     "metadata": {},
     "output_type": "execute_result"
    }
   ],
   "source": [
    "locations = []\n",
    "timestamps = []\n",
    "\n",
    "timestamp = 0\n",
    "for step in data['routes'][0]['legs'][0]['steps']:\n",
    "    timestamp += step['duration'] % 86400 # 24시간을 넘어가면 다시 0으로 돌림\n",
    "    locations.append(step['maneuver']['location'])\n",
    "    timestamps.append(timestamp)\n",
    "\n",
    "locations, timestamps"
   ]
  },
  {
   "cell_type": "code",
   "execution_count": 7,
   "metadata": {},
   "outputs": [
    {
     "data": {
      "text/html": [
       "<div>\n",
       "<style scoped>\n",
       "    .dataframe tbody tr th:only-of-type {\n",
       "        vertical-align: middle;\n",
       "    }\n",
       "\n",
       "    .dataframe tbody tr th {\n",
       "        vertical-align: top;\n",
       "    }\n",
       "\n",
       "    .dataframe thead th {\n",
       "        text-align: right;\n",
       "    }\n",
       "</style>\n",
       "<table border=\"1\" class=\"dataframe\">\n",
       "  <thead>\n",
       "    <tr style=\"text-align: right;\">\n",
       "      <th></th>\n",
       "      <th>path</th>\n",
       "      <th>tiemstamp</th>\n",
       "    </tr>\n",
       "  </thead>\n",
       "  <tbody>\n",
       "    <tr>\n",
       "      <th>0</th>\n",
       "      <td>[[126.372221, 33.384183], [126.37261, 33.38577...</td>\n",
       "      <td>[7.7, 37.6, 40.7, 444.2, 632.0, 738.3, 762.3, ...</td>\n",
       "    </tr>\n",
       "  </tbody>\n",
       "</table>\n",
       "</div>"
      ],
      "text/plain": [
       "                                                path  \\\n",
       "0  [[126.372221, 33.384183], [126.37261, 33.38577...   \n",
       "\n",
       "                                           tiemstamp  \n",
       "0  [7.7, 37.6, 40.7, 444.2, 632.0, 738.3, 762.3, ...  "
      ]
     },
     "execution_count": 7,
     "metadata": {},
     "output_type": "execute_result"
    }
   ],
   "source": [
    "df = pd.DataFrame([{\n",
    "    'path': locations,\n",
    "    'tiemstamp': timestamps\n",
    "}])\n",
    "\n",
    "df"
   ]
  }
 ],
 "metadata": {
  "kernelspec": {
   "display_name": "Python 3.9.9 64-bit",
   "language": "python",
   "name": "python3"
  },
  "language_info": {
   "codemirror_mode": {
    "name": "ipython",
    "version": 3
   },
   "file_extension": ".py",
   "mimetype": "text/x-python",
   "name": "python",
   "nbconvert_exporter": "python",
   "pygments_lexer": "ipython3",
   "version": "3.9.9"
  },
  "orig_nbformat": 4,
  "vscode": {
   "interpreter": {
    "hash": "11938c6bc6919ae2720b4d5011047913343b08a43b18698fd82dedb0d4417594"
   }
  }
 },
 "nbformat": 4,
 "nbformat_minor": 2
}
